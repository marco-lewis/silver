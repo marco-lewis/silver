{
 "cells": [
  {
   "cell_type": "code",
   "execution_count": 6,
   "id": "solved-indiana",
   "metadata": {
    "ExecuteTime": {
     "end_time": "2021-03-23T16:19:41.773053Z",
     "start_time": "2021-03-23T16:19:41.765051Z"
    }
   },
   "outputs": [
    {
     "name": "stderr",
     "output_type": "stream",
     "text": [
      "UsageError: Line magic function `%%capture` not found.\n",
      "UsageError: Line magic function `%%capture` not found.\n"
     ]
    }
   ],
   "source": [
    "import sys\n",
    "from z3 import *\n",
    "import numpy as np\n",
    "from complex import Complex, I\n",
    "from ComplexVector import ComplexVector\n",
    "from QuantumChecker import QuantumChecker\n",
    "import cmath, re\n",
    "%%capture"
   ]
  },
  {
   "cell_type": "code",
   "execution_count": 8,
   "id": "fourth-hospital",
   "metadata": {
    "ExecuteTime": {
     "end_time": "2021-03-23T16:25:00.476989Z",
     "start_time": "2021-03-23T16:25:00.313999Z"
    }
   },
   "outputs": [
    {
     "name": "stdout",
     "output_type": "stream",
     "text": [
      "[And(t0_q__0.r == 1 + 0*0 - 0*1, t0_q__0.i == 0 + 0*0 + 0*1),\n",
      " And(t0_q__1.r == 0 + 0*0 - 0*1, t0_q__1.i == 0 + 0*0 + 0*1),\n",
      " And(t0_q__2.r == 0 + 0*0 - 0*1, t0_q__2.i == 0 + 0*0 + 0*1),\n",
      " And(t0_q__3.r == 0 + 0*0 - 0*1, t0_q__3.i == 0 + 0*0 + 0*1),\n",
      " t1_q__0.r ==\n",
      " 0*t0_q__0.r - 0*t0_q__0.i +\n",
      " 1*t0_q__1.r - 0*t0_q__1.i +\n",
      " 0*t0_q__2.r - 0*t0_q__2.i +\n",
      " 0*t0_q__3.r - 0*t0_q__3.i,\n",
      " t1_q__0.i ==\n",
      " 0*t0_q__0.r +\n",
      " 0*t0_q__0.i +\n",
      " 0*t0_q__1.r +\n",
      " 1*t0_q__1.i +\n",
      " 0*t0_q__2.r +\n",
      " 0*t0_q__2.i +\n",
      " 0*t0_q__3.r +\n",
      " 0*t0_q__3.i,\n",
      " t1_q__1.r ==\n",
      " 1*t0_q__0.r - 0*t0_q__0.i +\n",
      " 0*t0_q__1.r - 0*t0_q__1.i +\n",
      " 0*t0_q__2.r - 0*t0_q__2.i +\n",
      " 0*t0_q__3.r - 0*t0_q__3.i,\n",
      " t1_q__1.i ==\n",
      " 0*t0_q__0.r +\n",
      " 1*t0_q__0.i +\n",
      " 0*t0_q__1.r +\n",
      " 0*t0_q__1.i +\n",
      " 0*t0_q__2.r +\n",
      " 0*t0_q__2.i +\n",
      " 0*t0_q__3.r +\n",
      " 0*t0_q__3.i,\n",
      " t1_q__2.r ==\n",
      " 0*t0_q__0.r - 0*t0_q__0.i +\n",
      " 0*t0_q__1.r - 0*t0_q__1.i +\n",
      " 0*t0_q__2.r - 0*t0_q__2.i +\n",
      " 1*t0_q__3.r - 0*t0_q__3.i,\n",
      " t1_q__2.i ==\n",
      " 0*t0_q__0.r +\n",
      " 0*t0_q__0.i +\n",
      " 0*t0_q__1.r +\n",
      " 0*t0_q__1.i +\n",
      " 0*t0_q__2.r +\n",
      " 0*t0_q__2.i +\n",
      " 0*t0_q__3.r +\n",
      " 1*t0_q__3.i,\n",
      " t1_q__3.r ==\n",
      " 0*t0_q__0.r - 0*t0_q__0.i +\n",
      " 0*t0_q__1.r - 0*t0_q__1.i +\n",
      " 1*t0_q__2.r - 0*t0_q__2.i +\n",
      " 0*t0_q__3.r - 0*t0_q__3.i,\n",
      " t1_q__3.i ==\n",
      " 0*t0_q__0.r +\n",
      " 0*t0_q__0.i +\n",
      " 0*t0_q__1.r +\n",
      " 0*t0_q__1.i +\n",
      " 0*t0_q__2.r +\n",
      " 1*t0_q__2.i +\n",
      " 0*t0_q__3.r +\n",
      " 0*t0_q__3.i]\n",
      "[And(t0_q__0.r == 1 + 0*0 - 0*1, t0_q__0.i == 0 + 0*0 + 0*1),\n",
      " And(t0_q__1.r == 0 + 0*0 - 0*1, t0_q__1.i == 0 + 0*0 + 0*1),\n",
      " And(t0_q__2.r == 0 + 0*0 - 0*1, t0_q__2.i == 0 + 0*0 + 0*1),\n",
      " And(t0_q__3.r == 0 + 0*0 - 0*1, t0_q__3.i == 0 + 0*0 + 0*1),\n",
      " t1_q__0.r ==\n",
      " 0*t0_q__0.r - 0*t0_q__0.i +\n",
      " 1*t0_q__1.r - 0*t0_q__1.i +\n",
      " 0*t0_q__2.r - 0*t0_q__2.i +\n",
      " 0*t0_q__3.r - 0*t0_q__3.i,\n",
      " t1_q__0.i ==\n",
      " 0*t0_q__0.r +\n",
      " 0*t0_q__0.i +\n",
      " 0*t0_q__1.r +\n",
      " 1*t0_q__1.i +\n",
      " 0*t0_q__2.r +\n",
      " 0*t0_q__2.i +\n",
      " 0*t0_q__3.r +\n",
      " 0*t0_q__3.i,\n",
      " t1_q__1.r ==\n",
      " 1*t0_q__0.r - 0*t0_q__0.i +\n",
      " 0*t0_q__1.r - 0*t0_q__1.i +\n",
      " 0*t0_q__2.r - 0*t0_q__2.i +\n",
      " 0*t0_q__3.r - 0*t0_q__3.i,\n",
      " t1_q__1.i ==\n",
      " 0*t0_q__0.r +\n",
      " 1*t0_q__0.i +\n",
      " 0*t0_q__1.r +\n",
      " 0*t0_q__1.i +\n",
      " 0*t0_q__2.r +\n",
      " 0*t0_q__2.i +\n",
      " 0*t0_q__3.r +\n",
      " 0*t0_q__3.i,\n",
      " t1_q__2.r ==\n",
      " 0*t0_q__0.r - 0*t0_q__0.i +\n",
      " 0*t0_q__1.r - 0*t0_q__1.i +\n",
      " 0*t0_q__2.r - 0*t0_q__2.i +\n",
      " 1*t0_q__3.r - 0*t0_q__3.i,\n",
      " t1_q__2.i ==\n",
      " 0*t0_q__0.r +\n",
      " 0*t0_q__0.i +\n",
      " 0*t0_q__1.r +\n",
      " 0*t0_q__1.i +\n",
      " 0*t0_q__2.r +\n",
      " 0*t0_q__2.i +\n",
      " 0*t0_q__3.r +\n",
      " 1*t0_q__3.i,\n",
      " t1_q__3.r ==\n",
      " 0*t0_q__0.r - 0*t0_q__0.i +\n",
      " 0*t0_q__1.r - 0*t0_q__1.i +\n",
      " 1*t0_q__2.r - 0*t0_q__2.i +\n",
      " 0*t0_q__3.r - 0*t0_q__3.i,\n",
      " t1_q__3.i ==\n",
      " 0*t0_q__0.r +\n",
      " 0*t0_q__0.i +\n",
      " 0*t0_q__1.r +\n",
      " 0*t0_q__1.i +\n",
      " 0*t0_q__2.r +\n",
      " 1*t0_q__2.i +\n",
      " 0*t0_q__3.r +\n",
      " 0*t0_q__3.i]\n"
     ]
    }
   ],
   "source": [
    "X = np.array([[0,1],[1,0]])\n",
    "\n",
    "qc = QuantumChecker()\n",
    "qc.init_new_qreg('x', 1)\n",
    "qc.init_new_qreg('y', 1)\n",
    "qc.apply_sing_op(X, 'x', 0)\n",
    "qc.print_solver()"
   ]
  }
 ],
 "metadata": {
  "kernelspec": {
   "display_name": "Python 3",
   "language": "python",
   "name": "python3"
  },
  "language_info": {
   "codemirror_mode": {
    "name": "ipython",
    "version": 3
   },
   "file_extension": ".py",
   "mimetype": "text/x-python",
   "name": "python",
   "nbconvert_exporter": "python",
   "pygments_lexer": "ipython3",
   "version": "3.7.9"
  }
 },
 "nbformat": 4,
 "nbformat_minor": 5
}
