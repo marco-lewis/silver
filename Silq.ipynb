{
 "cells": [
  {
   "cell_type": "code",
   "execution_count": 1,
   "id": "nuclear-orlando",
   "metadata": {
    "ExecuteTime": {
     "end_time": "2021-03-23T11:39:26.644225Z",
     "start_time": "2021-03-23T11:39:17.537960Z"
    }
   },
   "outputs": [
    {
     "name": "stdout",
     "output_type": "stream",
     "text": [
      "[And(x.r*x.r - x.i*x.i == -2, 0 == x.r*x.i + x.i*x.r)]\n",
      "sat\n",
      "x = (-1.4142135623?)*I\n",
      "-2\n",
      "[And(x.r*x.r - x.i*x.i == -2, 0 == x.r*x.i + x.i*x.r),\n",
      " x.i != -1]\n",
      "sat\n",
      "[x.i = -1.4142135623?, x.r = 0]\n",
      "sat\n",
      "((1*(3 + 0) - 0*(0 + 1))*(3 + 0) -\n",
      " (1*(0 + 1) + 0*(3 + 0))*(0 + 1))*\n",
      "((5 - 0)/((5 - 0)*(5 - 0) + (0 - 1)*(0 - 1))) -\n",
      "((1*(3 + 0) - 0*(0 + 1))*(0 + 1) +\n",
      " (1*(0 + 1) + 0*(3 + 0))*(3 + 0))*\n",
      "(-(0 - 1)/((5 - 0)*(5 - 0) + (0 - 1)*(0 - 1))) + (((1*(3 + 0) - 0*(0 + 1))*(3 + 0) -\n",
      " (1*(0 + 1) + 0*(3 + 0))*(0 + 1))*\n",
      "(-(0 - 1)/((5 - 0)*(5 - 0) + (0 - 1)*(0 - 1))) +\n",
      "((1*(3 + 0) - 0*(0 + 1))*(0 + 1) +\n",
      " (1*(0 + 1) + 0*(3 + 0))*(3 + 0))*\n",
      "((5 - 0)/((5 - 0)*(5 - 0) + (0 - 1)*(0 - 1))))*I\n",
      "((((1*(3 + 0) - 0*(0 + 1))*(3 + 0) -\n",
      "   (1*(0 + 1) + 0*(3 + 0))*(0 + 1))*\n",
      "  (3 + 0) -\n",
      "  ((1*(3 + 0) - 0*(0 + 1))*(0 + 1) +\n",
      "   (1*(0 + 1) + 0*(3 + 0))*(3 + 0))*\n",
      "  (0 + 1))/\n",
      " ((((1*(3 + 0) - 0*(0 + 1))*(3 + 0) -\n",
      "    (1*(0 + 1) + 0*(3 + 0))*(0 + 1))*\n",
      "   (3 + 0) -\n",
      "   ((1*(3 + 0) - 0*(0 + 1))*(0 + 1) +\n",
      "    (1*(0 + 1) + 0*(3 + 0))*(3 + 0))*\n",
      "   (0 + 1))*\n",
      "  (((1*(3 + 0) - 0*(0 + 1))*(3 + 0) -\n",
      "    (1*(0 + 1) + 0*(3 + 0))*(0 + 1))*\n",
      "   (3 + 0) -\n",
      "   ((1*(3 + 0) - 0*(0 + 1))*(0 + 1) +\n",
      "    (1*(0 + 1) + 0*(3 + 0))*(3 + 0))*\n",
      "   (0 + 1)) +\n",
      "  (((1*(3 + 0) - 0*(0 + 1))*(3 + 0) -\n",
      "    (1*(0 + 1) + 0*(3 + 0))*(0 + 1))*\n",
      "   (0 + 1) +\n",
      "   ((1*(3 + 0) - 0*(0 + 1))*(0 + 1) +\n",
      "    (1*(0 + 1) + 0*(3 + 0))*(3 + 0))*\n",
      "   (3 + 0))*\n",
      "  (((1*(3 + 0) - 0*(0 + 1))*(3 + 0) -\n",
      "    (1*(0 + 1) + 0*(3 + 0))*(0 + 1))*\n",
      "   (0 + 1) +\n",
      "   ((1*(3 + 0) - 0*(0 + 1))*(0 + 1) +\n",
      "    (1*(0 + 1) + 0*(3 + 0))*(3 + 0))*\n",
      "   (3 + 0))))*\n",
      "((5 - 0)/((5 - 0)*(5 - 0) + (0 - 1)*(0 - 1))) -\n",
      "(-(((1*(3 + 0) - 0*(0 + 1))*(3 + 0) -\n",
      "    (1*(0 + 1) + 0*(3 + 0))*(0 + 1))*\n",
      "   (0 + 1) +\n",
      "   ((1*(3 + 0) - 0*(0 + 1))*(0 + 1) +\n",
      "    (1*(0 + 1) + 0*(3 + 0))*(3 + 0))*\n",
      "   (3 + 0))/\n",
      " ((((1*(3 + 0) - 0*(0 + 1))*(3 + 0) -\n",
      "    (1*(0 + 1) + 0*(3 + 0))*(0 + 1))*\n",
      "   (3 + 0) -\n",
      "   ((1*(3 + 0) - 0*(0 + 1))*(0 + 1) +\n",
      "    (1*(0 + 1) + 0*(3 + 0))*(3 + 0))*\n",
      "   (0 + 1))*\n",
      "  (((1*(3 + 0) - 0*(0 + 1))*(3 + 0) -\n",
      "    (1*(0 + 1) + 0*(3 + 0))*(0 + 1))*\n",
      "   (3 + 0) -\n",
      "   ((1*(3 + 0) - 0*(0 + 1))*(0 + 1) +\n",
      "    (1*(0 + 1) + 0*(3 + 0))*(3 + 0))*\n",
      "   (0 + 1)) +\n",
      "  (((1*(3 + 0) - 0*(0 + 1))*(3 + 0) -\n",
      "    (1*(0 + 1) + 0*(3 + 0))*(0 + 1))*\n",
      "   (0 + 1) +\n",
      "   ((1*(3 + 0) - 0*(0 + 1))*(0 + 1) +\n",
      "    (1*(0 + 1) + 0*(3 + 0))*(3 + 0))*\n",
      "   (3 + 0))*\n",
      "  (((1*(3 + 0) - 0*(0 + 1))*(3 + 0) -\n",
      "    (1*(0 + 1) + 0*(3 + 0))*(0 + 1))*\n",
      "   (0 + 1) +\n",
      "   ((1*(3 + 0) - 0*(0 + 1))*(0 + 1) +\n",
      "    (1*(0 + 1) + 0*(3 + 0))*(3 + 0))*\n",
      "   (3 + 0))))*\n",
      "(-(0 - 1)/((5 - 0)*(5 - 0) + (0 - 1)*(0 - 1))) + (((((1*(3 + 0) - 0*(0 + 1))*(3 + 0) -\n",
      "   (1*(0 + 1) + 0*(3 + 0))*(0 + 1))*\n",
      "  (3 + 0) -\n",
      "  ((1*(3 + 0) - 0*(0 + 1))*(0 + 1) +\n",
      "   (1*(0 + 1) + 0*(3 + 0))*(3 + 0))*\n",
      "  (0 + 1))/\n",
      " ((((1*(3 + 0) - 0*(0 + 1))*(3 + 0) -\n",
      "    (1*(0 + 1) + 0*(3 + 0))*(0 + 1))*\n",
      "   (3 + 0) -\n",
      "   ((1*(3 + 0) - 0*(0 + 1))*(0 + 1) +\n",
      "    (1*(0 + 1) + 0*(3 + 0))*(3 + 0))*\n",
      "   (0 + 1))*\n",
      "  (((1*(3 + 0) - 0*(0 + 1))*(3 + 0) -\n",
      "    (1*(0 + 1) + 0*(3 + 0))*(0 + 1))*\n",
      "   (3 + 0) -\n",
      "   ((1*(3 + 0) - 0*(0 + 1))*(0 + 1) +\n",
      "    (1*(0 + 1) + 0*(3 + 0))*(3 + 0))*\n",
      "   (0 + 1)) +\n",
      "  (((1*(3 + 0) - 0*(0 + 1))*(3 + 0) -\n",
      "    (1*(0 + 1) + 0*(3 + 0))*(0 + 1))*\n",
      "   (0 + 1) +\n",
      "   ((1*(3 + 0) - 0*(0 + 1))*(0 + 1) +\n",
      "    (1*(0 + 1) + 0*(3 + 0))*(3 + 0))*\n",
      "   (3 + 0))*\n",
      "  (((1*(3 + 0) - 0*(0 + 1))*(3 + 0) -\n",
      "    (1*(0 + 1) + 0*(3 + 0))*(0 + 1))*\n",
      "   (0 + 1) +\n",
      "   ((1*(3 + 0) - 0*(0 + 1))*(0 + 1) +\n",
      "    (1*(0 + 1) + 0*(3 + 0))*(3 + 0))*\n",
      "   (3 + 0))))*\n",
      "(-(0 - 1)/((5 - 0)*(5 - 0) + (0 - 1)*(0 - 1))) +\n",
      "(-(((1*(3 + 0) - 0*(0 + 1))*(3 + 0) -\n",
      "    (1*(0 + 1) + 0*(3 + 0))*(0 + 1))*\n",
      "   (0 + 1) +\n",
      "   ((1*(3 + 0) - 0*(0 + 1))*(0 + 1) +\n",
      "    (1*(0 + 1) + 0*(3 + 0))*(3 + 0))*\n",
      "   (3 + 0))/\n",
      " ((((1*(3 + 0) - 0*(0 + 1))*(3 + 0) -\n",
      "    (1*(0 + 1) + 0*(3 + 0))*(0 + 1))*\n",
      "   (3 + 0) -\n",
      "   ((1*(3 + 0) - 0*(0 + 1))*(0 + 1) +\n",
      "    (1*(0 + 1) + 0*(3 + 0))*(3 + 0))*\n",
      "   (0 + 1))*\n",
      "  (((1*(3 + 0) - 0*(0 + 1))*(3 + 0) -\n",
      "    (1*(0 + 1) + 0*(3 + 0))*(0 + 1))*\n",
      "   (3 + 0) -\n",
      "   ((1*(3 + 0) - 0*(0 + 1))*(0 + 1) +\n",
      "    (1*(0 + 1) + 0*(3 + 0))*(3 + 0))*\n",
      "   (0 + 1)) +\n",
      "  (((1*(3 + 0) - 0*(0 + 1))*(3 + 0) -\n",
      "    (1*(0 + 1) + 0*(3 + 0))*(0 + 1))*\n",
      "   (0 + 1) +\n",
      "   ((1*(3 + 0) - 0*(0 + 1))*(0 + 1) +\n",
      "    (1*(0 + 1) + 0*(3 + 0))*(3 + 0))*\n",
      "   (3 + 0))*\n",
      "  (((1*(3 + 0) - 0*(0 + 1))*(3 + 0) -\n",
      "    (1*(0 + 1) + 0*(3 + 0))*(0 + 1))*\n",
      "   (0 + 1) +\n",
      "   ((1*(3 + 0) - 0*(0 + 1))*(0 + 1) +\n",
      "    (1*(0 + 1) + 0*(3 + 0))*(3 + 0))*\n",
      "   (3 + 0))))*\n",
      "((5 - 0)/((5 - 0)*(5 - 0) + (0 - 1)*(0 - 1))))*I\n"
     ]
    }
   ],
   "source": [
    "import sys\n",
    "from z3 import *\n",
    "import numpy as np\n",
    "from complex import Complex, I\n",
    "from ComplexVector import ComplexVector\n",
    "from QuantumChecker import QuantumChecker\n",
    "import cmath, re"
   ]
  },
  {
   "cell_type": "code",
   "execution_count": 2,
   "id": "solar-civilian",
   "metadata": {
    "ExecuteTime": {
     "end_time": "2021-03-23T11:39:26.659251Z",
     "start_time": "2021-03-23T11:39:26.647219Z"
    }
   },
   "outputs": [],
   "source": [
    "from enum import Enum\n",
    "class Prog(Enum):\n",
    "    INIT = 1\n",
    "    OP = 2\n",
    "    MEAS = 3\n",
    "    RET = 4"
   ]
  },
  {
   "cell_type": "code",
   "execution_count": 3,
   "id": "republican-credits",
   "metadata": {
    "ExecuteTime": {
     "end_time": "2021-03-23T11:39:26.847217Z",
     "start_time": "2021-03-23T11:39:26.663225Z"
    }
   },
   "outputs": [],
   "source": [
    "sqrt2 = Real('sqrt2')\n",
    "\n",
    "H = np.array([[1/sqrt2, 1/sqrt2], [1/sqrt2, -1/sqrt2]])\n",
    "X = np.array([[0,1], [1,0]])"
   ]
  },
  {
   "cell_type": "code",
   "execution_count": 4,
   "id": "metropolitan-fireplace",
   "metadata": {
    "ExecuteTime": {
     "end_time": "2021-03-23T11:39:26.991250Z",
     "start_time": "2021-03-23T11:39:26.852220Z"
    }
   },
   "outputs": [],
   "source": [
    "def identify_line(s):\n",
    "    out = False\n",
    "    if re.search('[a-z]+ := [01]:B', s):\n",
    "        out = INIT\n",
    "    elif re.search('[a-z]+ := [HXYZ]\\([a-z]+\\)', s):\n",
    "        out = OP\n",
    "    elif re.search('[a-z]+ := measure\\([a-z]+\\)', s):\n",
    "        out = MEAS\n",
    "    elif re.search('return [a-zA-Z]+', s):\n",
    "        out = RET\n",
    "    return out"
   ]
  },
  {
   "cell_type": "code",
   "execution_count": 5,
   "id": "contemporary-accent",
   "metadata": {
    "ExecuteTime": {
     "end_time": "2021-03-23T11:39:27.165529Z",
     "start_time": "2021-03-23T11:39:26.995217Z"
    }
   },
   "outputs": [],
   "source": [
    "def LabelVariables(prog):\n",
    "    for s in prog:\n",
    "        print(identify_line(s))"
   ]
  },
  {
   "cell_type": "code",
   "execution_count": 6,
   "id": "technical-brook",
   "metadata": {
    "ExecuteTime": {
     "end_time": "2021-03-23T11:39:27.371276Z",
     "start_time": "2021-03-23T11:39:27.168438Z"
    }
   },
   "outputs": [],
   "source": [
    "def CheckQubit(qc, s):\n",
    "    if ':= 0:B' in s:\n",
    "        qc.init_new_reg(1)\n",
    "    elif ':= 1:B' in s:\n",
    "        qc.init_new_reg(1)\n",
    "        qc.apply_op(X)\n",
    "        \n",
    "def CheckOperator(qc, s):\n",
    "    if (':= H(x)' in s):\n",
    "        qc.add_constraint([sqrt2**2 == 2, sqrt2 > 0])\n",
    "        qc.apply_op(H)\n",
    "    if (':= X(x)' in s):\n",
    "        qc.apply_op(X)\n",
    "\n",
    "def CheckMeasure(qc, s):\n",
    "    if ('measure(' in s):\n",
    "        return False"
   ]
  },
  {
   "cell_type": "code",
   "execution_count": 61,
   "id": "listed-lambda",
   "metadata": {
    "ExecuteTime": {
     "end_time": "2021-03-23T13:15:13.504327Z",
     "start_time": "2021-03-23T13:15:10.989528Z"
    }
   },
   "outputs": [
    {
     "name": "stdout",
     "output_type": "stream",
     "text": [
      "// Pre []\n",
      "\n",
      "def main() {\n",
      "\n",
      "    x := 1:B;\n",
      "\n",
      "    x := H(x);\n",
      "\n",
      "    x := X(x);\n",
      "\n",
      "    x := measure(x);\n",
      "\n",
      "    return x;\n",
      "\n",
      "}\n",
      "\n",
      "// Post []\n",
      "sat\n",
      "[t0_q__0.i = 0,\n",
      " t0_q__0.r = 1,\n",
      " sqrt2 = 1.4142135623?,\n",
      " t3_q__1.i = 0,\n",
      " t3_q__1.r = 0.7071067811?,\n",
      " t3_q__0.i = 0,\n",
      " t3_q__0.r = -0.7071067811?,\n",
      " t2_q__1.i = 0,\n",
      " t2_q__1.r = -0.7071067811?,\n",
      " t2_q__0.i = 0,\n",
      " t2_q__0.r = 0.7071067811?,\n",
      " t1_q__1.i = 0,\n",
      " t1_q__1.r = 1,\n",
      " t1_q__0.i = 0,\n",
      " t1_q__0.r = 0,\n",
      " t0_q__1.i = 0,\n",
      " t0_q__1.r = 0,\n",
      " /0 = [(-1, 1.4142135623?) -> -0.7071067811?,\n",
      "       (1, 1.4142135623?) -> 0.7071067811?,\n",
      "       else -> 0]]\n"
     ]
    }
   ],
   "source": [
    "with open('Silq_Programs/prog.slq', 'r') as slq_prog:\n",
    "    prog = slq_prog.readlines()\n",
    "\n",
    "    \n",
    "# Need to edit prog so that variables are edited and remove comments\n",
    "\n",
    "qc = QuantumChecker()\n",
    "\n",
    "# filter(not('//' in s or '{' in s or '}' in s), prog)\n",
    "\n",
    "# Precondition\n",
    "qc.add_constraint([])\n",
    "\n",
    "# Need to filter program for filters or others\n",
    "for s in prog:\n",
    "    print(s)\n",
    "    CheckQubit(qc, s)\n",
    "    CheckOperator(qc, s)\n",
    "    CheckMeasure(qc, s)\n",
    "\n",
    "# Postcondition\n",
    "qc.add_constraint([])\n",
    "\n",
    "print(qc.check_solver())\n",
    "qc.print_model()"
   ]
  },
  {
   "cell_type": "code",
   "execution_count": null,
   "id": "elder-cooler",
   "metadata": {},
   "outputs": [],
   "source": []
  }
 ],
 "metadata": {
  "kernelspec": {
   "display_name": "Python 3",
   "language": "python",
   "name": "python3"
  },
  "language_info": {
   "codemirror_mode": {
    "name": "ipython",
    "version": 3
   },
   "file_extension": ".py",
   "mimetype": "text/x-python",
   "name": "python",
   "nbconvert_exporter": "python",
   "pygments_lexer": "ipython3",
   "version": "3.7.9"
  }
 },
 "nbformat": 4,
 "nbformat_minor": 5
}
